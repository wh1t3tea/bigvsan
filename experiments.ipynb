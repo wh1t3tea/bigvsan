{
 "cells": [
  {
   "cell_type": "code",
   "id": "initial_id",
   "metadata": {
    "collapsed": true,
    "ExecuteTime": {
     "end_time": "2024-05-31T10:52:08.881889Z",
     "start_time": "2024-05-31T10:52:05.653863Z"
    }
   },
   "source": [
    "import os\n",
    "import torch\n",
    "from torch import nn\n",
    "from meldataset import MelDataset"
   ],
   "outputs": [],
   "execution_count": 1
  },
  {
   "metadata": {
    "ExecuteTime": {
     "end_time": "2024-05-31T10:52:10.522734Z",
     "start_time": "2024-05-31T10:52:09.667861Z"
    }
   },
   "cell_type": "code",
   "source": [
    "import pandas as pd\n",
    "\n",
    "training_files = \"LibriTTS/train-clean-100.txt\"\n",
    "training_files = pd.read_csv(training_files, sep=\"|\", header=None)\n",
    "training_files.rename({0: \"path\", 1: \"text\"}, axis=1, inplace=True)\n",
    "training_files[\"path\"] = training_files[\"path\"].apply(lambda x: os.path.join(\"/Users/maksimmaslov/Downloads/LibriTTS_R\", x))\n",
    "training_files[\"path\"] = training_files[\"path\"].apply(lambda x: f\"{x}.wav\")\n",
    "training_files = training_files[\"path\"]\n",
    "dataset = MelDataset(training_files=training_files,\n",
    "                     segment_size=8192,\n",
    "                     n_fft=1024,\n",
    "                     hop_size=256,\n",
    "                     num_mels=80,\n",
    "                     sampling_rate=22050,\n",
    "                     win_size=1024,\n",
    "                     fmin=0,\n",
    "                     fmax=8000,\n",
    "                     hparams=None)"
   ],
   "id": "f726411f4887e70a",
   "outputs": [
    {
     "name": "stdout",
     "output_type": "stream",
     "text": [
      "INFO: checking dataset integrity...\n"
     ]
    },
    {
     "name": "stderr",
     "output_type": "stream",
     "text": [
      "100%|██████████| 28794/28794 [00:00<00:00, 188166.61it/s]\n"
     ]
    }
   ],
   "execution_count": 2
  },
  {
   "metadata": {
    "ExecuteTime": {
     "end_time": "2024-05-31T10:52:11.713469Z",
     "start_time": "2024-05-31T10:52:11.635968Z"
    }
   },
   "cell_type": "code",
   "source": "dataset[0]",
   "id": "555b005e3ead0361",
   "outputs": [
    {
     "name": "stderr",
     "output_type": "stream",
     "text": [
      "/Users/maksimmaslov/BigVSAN/pythonProject/bigvsan/meldataset.py:70: FutureWarning: Pass sr=22050, n_fft=1024, n_mels=80, fmin=0, fmax=8000 as keyword args. From version 0.10 passing these as positional arguments will result in an error\n",
      "  mel = librosa_mel_fn(sampling_rate, n_fft, num_mels, fmin, fmax)\n",
      "/Users/maksimmaslov/BigVSAN/pythonProject/bigvsan/meldataset.py:70: FutureWarning: Pass sr=22050, n_fft=1024, n_mels=80, fmin=0, fmax=None as keyword args. From version 0.10 passing these as positional arguments will result in an error\n",
      "  mel = librosa_mel_fn(sampling_rate, n_fft, num_mels, fmin, fmax)\n"
     ]
    },
    {
     "data": {
      "text/plain": [
       "(tensor([[-4.5283, -4.1820, -3.9458,  ..., -3.9776, -3.4855, -2.2383],\n",
       "         [-4.5495, -4.4888, -4.4159,  ..., -5.4135, -3.6962, -2.0094],\n",
       "         [-4.5189, -4.6400, -4.7019,  ..., -4.4041, -3.2778, -1.5640],\n",
       "         ...,\n",
       "         [-8.3639, -8.1472, -8.2601,  ..., -3.8863, -3.6056, -3.7288],\n",
       "         [-8.4645, -8.3925, -8.4759,  ..., -4.3667, -3.9221, -3.8613],\n",
       "         [-8.2688, -8.3852, -8.5669,  ..., -4.5063, -4.0241, -3.8045]]),\n",
       " tensor([0.0024, 0.0034, 0.0036,  ..., 0.0442, 0.0692, 0.0392]),\n",
       " '/Users/maksimmaslov/Downloads/LibriTTS_R/train-clean-100/4137/11702/4137_11702_000081_000000.wav',\n",
       " tensor([[-4.4978, -4.2437, -4.0392,  ..., -4.1333, -3.5081, -2.2077],\n",
       "         [-4.5481, -4.4624, -4.4262,  ..., -5.1294, -3.6306, -1.9004],\n",
       "         [-4.5891, -4.8779, -4.7625,  ..., -3.4628, -2.5510, -1.2960],\n",
       "         ...,\n",
       "         [-8.3387, -8.4784, -8.7820,  ..., -5.1273, -4.6477, -4.3987],\n",
       "         [-8.9146, -8.9502, -9.0322,  ..., -5.3329, -4.8473, -4.7108],\n",
       "         [-9.5975, -9.3138, -9.6129,  ..., -5.9706, -5.2960, -4.9878]]))"
      ]
     },
     "execution_count": 3,
     "metadata": {},
     "output_type": "execute_result"
    }
   ],
   "execution_count": 3
  },
  {
   "metadata": {
    "ExecuteTime": {
     "end_time": "2024-05-31T10:26:55.797006Z",
     "start_time": "2024-05-31T10:26:55.787995Z"
    }
   },
   "cell_type": "code",
   "source": "training_files",
   "id": "91a2a48302715a7",
   "outputs": [
    {
     "data": {
      "text/plain": [
       "         train-clean-100/103/1241/103_1241_000004_000002  \\\n",
       "0        train-clean-100/103/1241/103_1241_000007_000001   \n",
       "1        train-clean-100/103/1241/103_1241_000012_000002   \n",
       "2        train-clean-100/103/1241/103_1241_000014_000003   \n",
       "3        train-clean-100/103/1241/103_1241_000017_000000   \n",
       "4        train-clean-100/103/1241/103_1241_000017_000001   \n",
       "...                                                  ...   \n",
       "28792  train-clean-100/911/130578/911_130578_000003_0...   \n",
       "28793  train-clean-100/911/130578/911_130578_000003_0...   \n",
       "28794  train-clean-100/911/130578/911_130578_000006_0...   \n",
       "28795  train-clean-100/911/130578/911_130578_000006_0...   \n",
       "28796  train-clean-100/911/130578/911_130578_000006_0...   \n",
       "\n",
       "      In fact, he had looked at twenty very much as he looked at sixty, lacking a little of the grayness.  \n",
       "0      But there was a passenger dropped off for you-...                                                   \n",
       "1      Maybe they were out of boys of the brand you w...                                                   \n",
       "2      Her face was small, white and thin, also much ...                                                   \n",
       "3      I suppose you are mr matthew Cuthbert of Green...                                                   \n",
       "4      I'm very glad to see you.\\ntrain-clean-100/103...                                                   \n",
       "...                                                  ...                                                   \n",
       "28792  Then he told her that a good cure for toothach...                                                   \n",
       "28793  Did you think, Grannie, that you could bite my...                                                   \n",
       "28794                      and they drank and went away.                                                   \n",
       "28795  Then various kinds of birds came and after the...                                                   \n",
       "28796             The boy was rather frightened and sang                                                   \n",
       "\n",
       "[28797 rows x 2 columns]"
      ],
      "text/html": [
       "<div>\n",
       "<style scoped>\n",
       "    .dataframe tbody tr th:only-of-type {\n",
       "        vertical-align: middle;\n",
       "    }\n",
       "\n",
       "    .dataframe tbody tr th {\n",
       "        vertical-align: top;\n",
       "    }\n",
       "\n",
       "    .dataframe thead th {\n",
       "        text-align: right;\n",
       "    }\n",
       "</style>\n",
       "<table border=\"1\" class=\"dataframe\">\n",
       "  <thead>\n",
       "    <tr style=\"text-align: right;\">\n",
       "      <th></th>\n",
       "      <th>train-clean-100/103/1241/103_1241_000004_000002</th>\n",
       "      <th>In fact, he had looked at twenty very much as he looked at sixty, lacking a little of the grayness.</th>\n",
       "    </tr>\n",
       "  </thead>\n",
       "  <tbody>\n",
       "    <tr>\n",
       "      <th>0</th>\n",
       "      <td>train-clean-100/103/1241/103_1241_000007_000001</td>\n",
       "      <td>But there was a passenger dropped off for you-...</td>\n",
       "    </tr>\n",
       "    <tr>\n",
       "      <th>1</th>\n",
       "      <td>train-clean-100/103/1241/103_1241_000012_000002</td>\n",
       "      <td>Maybe they were out of boys of the brand you w...</td>\n",
       "    </tr>\n",
       "    <tr>\n",
       "      <th>2</th>\n",
       "      <td>train-clean-100/103/1241/103_1241_000014_000003</td>\n",
       "      <td>Her face was small, white and thin, also much ...</td>\n",
       "    </tr>\n",
       "    <tr>\n",
       "      <th>3</th>\n",
       "      <td>train-clean-100/103/1241/103_1241_000017_000000</td>\n",
       "      <td>I suppose you are mr matthew Cuthbert of Green...</td>\n",
       "    </tr>\n",
       "    <tr>\n",
       "      <th>4</th>\n",
       "      <td>train-clean-100/103/1241/103_1241_000017_000001</td>\n",
       "      <td>I'm very glad to see you.\\ntrain-clean-100/103...</td>\n",
       "    </tr>\n",
       "    <tr>\n",
       "      <th>...</th>\n",
       "      <td>...</td>\n",
       "      <td>...</td>\n",
       "    </tr>\n",
       "    <tr>\n",
       "      <th>28792</th>\n",
       "      <td>train-clean-100/911/130578/911_130578_000003_0...</td>\n",
       "      <td>Then he told her that a good cure for toothach...</td>\n",
       "    </tr>\n",
       "    <tr>\n",
       "      <th>28793</th>\n",
       "      <td>train-clean-100/911/130578/911_130578_000003_0...</td>\n",
       "      <td>Did you think, Grannie, that you could bite my...</td>\n",
       "    </tr>\n",
       "    <tr>\n",
       "      <th>28794</th>\n",
       "      <td>train-clean-100/911/130578/911_130578_000006_0...</td>\n",
       "      <td>and they drank and went away.</td>\n",
       "    </tr>\n",
       "    <tr>\n",
       "      <th>28795</th>\n",
       "      <td>train-clean-100/911/130578/911_130578_000006_0...</td>\n",
       "      <td>Then various kinds of birds came and after the...</td>\n",
       "    </tr>\n",
       "    <tr>\n",
       "      <th>28796</th>\n",
       "      <td>train-clean-100/911/130578/911_130578_000006_0...</td>\n",
       "      <td>The boy was rather frightened and sang</td>\n",
       "    </tr>\n",
       "  </tbody>\n",
       "</table>\n",
       "<p>28797 rows × 2 columns</p>\n",
       "</div>"
      ]
     },
     "execution_count": 11,
     "metadata": {},
     "output_type": "execute_result"
    }
   ],
   "execution_count": 11
  },
  {
   "metadata": {},
   "cell_type": "code",
   "outputs": [],
   "execution_count": null,
   "source": "",
   "id": "19ea36a35d6591"
  }
 ],
 "metadata": {
  "kernelspec": {
   "display_name": "Python 3",
   "language": "python",
   "name": "python3"
  },
  "language_info": {
   "codemirror_mode": {
    "name": "ipython",
    "version": 2
   },
   "file_extension": ".py",
   "mimetype": "text/x-python",
   "name": "python",
   "nbconvert_exporter": "python",
   "pygments_lexer": "ipython2",
   "version": "2.7.6"
  }
 },
 "nbformat": 4,
 "nbformat_minor": 5
}
